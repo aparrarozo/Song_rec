{
 "cells": [
  {
   "cell_type": "markdown",
   "id": "fc62ed32",
   "metadata": {},
   "source": [
    "# Song Recommender  "
   ]
  },
  {
   "cell_type": "markdown",
   "id": "4d85a5da",
   "metadata": {},
   "source": [
    "## importing libraries"
   ]
  },
  {
   "cell_type": "code",
   "execution_count": 1,
   "id": "e568bd9b",
   "metadata": {},
   "outputs": [],
   "source": [
    "import spotipy\n",
    "import json\n",
    "from spotipy.oauth2 import SpotifyClientCredentials\n",
    "import pandas as pd\n",
    "import numpy as np\n",
    "import random\n",
    "import pprint\n",
    "import pickle\n",
    "from sklearn import datasets \n",
    "from sklearn.preprocessing import StandardScaler\n",
    "from sklearn.cluster import KMeans\n",
    "from matplotlib import pyplot\n",
    "from sklearn.metrics import silhouette_score\n",
    "from IPython.display import IFrame\n",
    "import config"
   ]
  },
  {
   "cell_type": "markdown",
   "id": "d508f454",
   "metadata": {},
   "source": [
    "## Accessing the Spotify API"
   ]
  },
  {
   "cell_type": "code",
   "execution_count": 2,
   "id": "9dd5be15",
   "metadata": {},
   "outputs": [],
   "source": [
    "sp = spotipy.Spotify(auth_manager=SpotifyClientCredentials(client_id=config.c_id,\n",
    "                                                           client_secret=config.c_se))"
   ]
  },
  {
   "cell_type": "markdown",
   "id": "5f9449e9",
   "metadata": {},
   "source": [
    "## Loading data files"
   ]
  },
  {
   "cell_type": "code",
   "execution_count": 3,
   "id": "503beb9e",
   "metadata": {},
   "outputs": [],
   "source": [
    "df = pd.read_csv('clustered_songs_df.csv')\n",
    "hot_songs = pd.read_csv('top_100_songs.csv')\n",
    "with open(\"scaler.pickle\", \"rb\") as f: \n",
    "        scaler = pickle.load(f)\n",
    "with open(\"kmeans3.pickle\", \"rb\") as f: \n",
    "        kmeans3 = pickle.load(f) "
   ]
  },
  {
   "cell_type": "markdown",
   "id": "e91d2486",
   "metadata": {},
   "source": [
    "## Song recommender "
   ]
  },
  {
   "cell_type": "code",
   "execution_count": 18,
   "id": "e05133c0",
   "metadata": {},
   "outputs": [
    {
     "name": "stdout",
     "output_type": "stream",
     "text": [
      "Write down a song title: fly me to the moon\n",
      "You might also like the song: Heartbreak Hotel by Elvis Presley.\n"
     ]
    }
   ],
   "source": [
    "for song in hot_songs[[\"name\",\"artist\"]].iterrows():\n",
    "    user_input = input(\"Write down a song title: \")\n",
    "    if user_input.lower() in list(hot_songs[\"name\"]):\n",
    "        random_song = random.choice(hot_songs[\"name\"])\n",
    "        song_artist = hot_songs.loc[hot_songs[\"name\"] == random_song, \"artist\"].values[0]\n",
    "        print(\"This is a hot song\")\n",
    "        print(\"You may also like this song: \", random_song, \"from\", song_artist)\n",
    "        print(\"Thanks for using the music recommender.\")\n",
    "        break\n",
    "\n",
    "    else:\n",
    "        \n",
    "        results = sp.search(q= user_input,limit=1,market=\"GB\")\n",
    "        track_id=results['tracks']['items'][0]['external_urls'][\"spotify\"][31:]\n",
    "        results[\"tracks\"][\"items\"][0][\"uri\"]\n",
    "        input_song = sp.audio_features(results[\"tracks\"][\"items\"][0][\"uri\"])[0]\n",
    "        input_song = pd.DataFrame([input_song])\n",
    "        input_song_num = input_song.select_dtypes(np.number)\n",
    "        input_song_sc = scaler.transform(input_song_num)\n",
    "        song_trans_df = pd.DataFrame(input_song_sc, columns = input_song_num.columns)\n",
    "        user_song_cluster = kmeans3.predict(song_trans_df)[0]\n",
    "        recommended_song = df[df[\"cluster\"] == user_song_cluster].sample()\n",
    "        recommended_song_id = recommended_song[\"id\"].iat[0]\n",
    "        print(\"You might also like the song: \" + recommended_song[\"song_title\"].iat[0] + \" by \" + recommended_song[\"artist\"].iat[0] + \".\") \n",
    "        \n",
    "        break"
   ]
  },
  {
   "cell_type": "code",
   "execution_count": 19,
   "id": "f56dca55",
   "metadata": {},
   "outputs": [
    {
     "data": {
      "text/html": [
       "\n",
       "        <iframe\n",
       "            width=\"320\"\n",
       "            height=\"80\"\n",
       "            src=\"https://open.spotify.com/embed/track/5b7OgznPJJr1vHNYGyvxau?frameborder=0&allowtransparency=true&allow=encrypted-media\"\n",
       "            frameborder=\"0\"\n",
       "            allowfullscreen\n",
       "            \n",
       "        ></iframe>\n",
       "        "
      ],
      "text/plain": [
       "<IPython.lib.display.IFrame at 0x7ff6ee3900d0>"
      ]
     },
     "metadata": {},
     "output_type": "display_data"
    },
    {
     "data": {
      "text/html": [
       "\n",
       "        <iframe\n",
       "            width=\"320\"\n",
       "            height=\"80\"\n",
       "            src=\"https://open.spotify.com/embed/track/7E1X7iUkwr63wodjCl0pKb?frameborder=0&allowtransparency=true&allow=encrypted-media\"\n",
       "            frameborder=\"0\"\n",
       "            allowfullscreen\n",
       "            \n",
       "        ></iframe>\n",
       "        "
      ],
      "text/plain": [
       "<IPython.lib.display.IFrame at 0x7ff6ee390970>"
      ]
     },
     "metadata": {},
     "output_type": "display_data"
    }
   ],
   "source": [
    "display(IFrame(src=\"https://open.spotify.com/embed/track/\"+track_id,\n",
    "       width=\"320\",\n",
    "       height=\"80\",\n",
    "       frameborder=\"0\",\n",
    "       allowtransparency=\"true\",\n",
    "       allow=\"encrypted-media\",))\n",
    "\n",
    "display(IFrame(src=\"https://open.spotify.com/embed/track/\"+recommended_song_id,\n",
    "       width=\"320\",\n",
    "       height=\"80\",\n",
    "       frameborder=\"0\",\n",
    "       allowtransparency=\"true\",\n",
    "       allow=\"encrypted-media\",))"
   ]
  }
 ],
 "metadata": {
  "kernelspec": {
   "display_name": "Python 3 (ipykernel)",
   "language": "python",
   "name": "python3"
  },
  "language_info": {
   "codemirror_mode": {
    "name": "ipython",
    "version": 3
   },
   "file_extension": ".py",
   "mimetype": "text/x-python",
   "name": "python",
   "nbconvert_exporter": "python",
   "pygments_lexer": "ipython3",
   "version": "3.9.7"
  },
  "toc": {
   "base_numbering": 1,
   "nav_menu": {},
   "number_sections": true,
   "sideBar": true,
   "skip_h1_title": false,
   "title_cell": "Table of Contents",
   "title_sidebar": "Contents",
   "toc_cell": false,
   "toc_position": {
    "height": "calc(100% - 180px)",
    "left": "10px",
    "top": "150px",
    "width": "186.7px"
   },
   "toc_section_display": true,
   "toc_window_display": true
  }
 },
 "nbformat": 4,
 "nbformat_minor": 5
}
